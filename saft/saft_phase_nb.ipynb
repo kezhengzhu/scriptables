{
 "cells": [
  {
   "cell_type": "code",
   "execution_count": 1,
   "metadata": {},
   "outputs": [],
   "source": [
    "import saftgmie as saft\n",
    "import numpy as np\n",
    "import pandas as pd\n",
    "import math\n",
    "import time\n",
    "import matplotlib.pyplot as plt\n",
    "from mpl_toolkits.mplot3d import Axes3D\n",
    "from sklearn import svm\n",
    "import scipy\n",
    "from scipy.optimize import fsolve, least_squares, leastsq\n",
    "\n",
    "import torch\n",
    "from torch import nn\n",
    "from torch import optim\n",
    "import torch.nn.functional as F\n",
    "from sklearn import preprocessing"
   ]
  },
  {
   "cell_type": "markdown",
   "metadata": {},
   "source": [
    "First, we have to generate the data we need to fit the phase diagram. With the SAFT model developed, the system can be easily defined, and populated with the desired coarse grained molecules with their respective parameters. Here, we first define two pure systems, of hexane (3 CG beads of $\\lambda_r = 19.33$, $\\lambda_a = 6.00$, $\\sigma = 0.451\\ \\text{nm}$, $\\epsilon/k_b = 377.012\\ \\text{K}$) and methane (1 CG bead of $\\lambda_r = 16.391$, $\\lambda_a = 6.00$, $\\sigma = 0.375\\ \\text{nm}$, $\\epsilon/k_b = 170.754\\ \\text{K}$). "
   ]
  },
  {
   "cell_type": "code",
   "execution_count": 2,
   "metadata": {},
   "outputs": [
    {
     "name": "stdout",
     "output_type": "stream",
     "text": [
      "  2 groups were to be added,   2 groups were added\n",
      "  1 groups were to be added,   1 groups were added\n"
     ]
    }
   ],
   "source": [
    "c6bead = saft.GroupType(19.32993437, 6., 0.450874, 377.0118945, shape_factor=1)\n",
    "c1bead = saft.GroupType(16.39077548, 6., 0.375227, 170.7540156, shape_factor=1)\n",
    "\n",
    "hexane = saft.Component(16.04).quick_set((c6bead, 2))\n",
    "methane = saft.Component(86.1754).quick_set((c1bead, 1))\n",
    "\n",
    "pure_methane = saft.System().quick_set((methane, 1000))\n",
    "pure_hexane = saft.System().quick_set((hexane, 1000))\n",
    "mixture = saft.System().quick_set((methane, 500), (hexane, 500))"
   ]
  },
  {
   "cell_type": "markdown",
   "metadata": {},
   "source": [
    "After setting up the system, generate data by using the following functions: \n",
    "* `pressure (, gibbs) = .p_v_isotherm(volume, temperature=None, gibbs=False)` \n",
    "* `pressure = .p_rho_isotherm(number_density, temperature=None)` \n",
    "* `pv (,vle, gibbs) = .vapour_pressure(temperature=None, initial_guess=(1-e4,1), get_volume=False, get_gibbs=False, print_results=True)`\n",
    "* `volume (, density) = .single_phase_v(P, T=None, print_results=True, get_density=False)`\n",
    "\n",
    "When generating data, we have to ensure that the data points are well spread out. This has two complications:\n",
    "1. Data spaces between volume and temperature spacing have to be uniform. This means that if I have say 1000 volume points per temperature for 100 temperature, the machine learning would favour fitting volume shape over accuracy in temperature. As a result, the number of data points for each isotherm have to be carefully planned out.\n",
    "2. Also, the high gradient in a P-v isotherm in liquid phase is easily to extreme pressure points which results in unnecessarily high spread in data. It is hence necessary to generate points with respect to spread in pressure here instead of molar volume / density. This liquid density where the pressure gradient becomes steep also depends on the temperature, hence we have to first calculate the vapour pressure and the liquid density before generating the data points."
   ]
  },
  {
   "cell_type": "code",
   "execution_count": 3,
   "metadata": {},
   "outputs": [
    {
     "name": "stdout",
     "output_type": "stream",
     "text": [
      "===== Generating hexane (19.33/6.0) data (P,v,T) =====\n",
      "Data generation complete. Output file: pure-hexane-vle.csv      \n"
     ]
    }
   ],
   "source": [
    "# For hexane\n",
    "\n",
    "print(\"=\"*5,\"Generating hexane (19.33/6.0) data (P,v,T)\",\"=\"*5)\n",
    "\n",
    "temp_range = np.linspace(300,477,200)\n",
    "v_liquid = np.zeros(np.size(temp_range))\n",
    "v_vapour = np.zeros(np.size(temp_range))\n",
    "g_eq = np.zeros(np.size(temp_range))\n",
    "p_vap = np.zeros(np.size(temp_range))\n",
    "# 2 phase data\n",
    "tsize = np.size(temp_range)\n",
    "start_time = time.time()\n",
    "\n",
    "for i in range(tsize):\n",
    "    t = temp_range[i]\n",
    "    pv, vle, geq = pure_hexane.vapour_pressure(t, get_volume=True, get_gibbs=True, print_results=False)\n",
    "    p_vap[i] = pv\n",
    "    v_liquid[i] = min(vle)\n",
    "    v_vapour[i] = max(vle)\n",
    "    g_eq[i] = geq\n",
    "    elapsed_time = time.time() - start_time\n",
    "    print(f'VLE data generation at {int((i+1)*100/tsize):3d}% complete, time elapsed: {elapsed_time:5.2f} s', end='\\r')\n",
    "df = pd.DataFrame(np.column_stack([temp_range, p_vap, v_liquid, v_vapour, g_eq]))\n",
    "outputfile = 'pure-hexane-vle.csv'\n",
    "df.to_csv(outputfile, index=False)\n",
    "\n",
    "print(f'Data generation complete. Output file: {outputfile}', ' '*5)"
   ]
  },
  {
   "cell_type": "markdown",
   "metadata": {},
   "source": [
    "Plotting graph to show the VLE curve. This is somewhat what we are aiming to predict. For hexane, the critical temperature and pressure is 507.6 K and 3.02 MPa, and nearing the critical point, the algorithm to calculate VLE points become very difficult to converge, which results in mistaken points that doesn't fit the VLE envelope correctly. As a result, the envelope displayed will be missing the critical region. Hopefully, machine learning methods will help us kind of predict this envelop."
   ]
  },
  {
   "cell_type": "code",
   "execution_count": 4,
   "metadata": {},
   "outputs": [
    {
     "data": {
      "text/plain": [
       "Text(0.5,1,'VLE envelope')"
      ]
     },
     "execution_count": 4,
     "metadata": {},
     "output_type": "execute_result"
    },
    {
     "data": {
      "image/png": "[encoded data removed]",
      "text/plain": [
       "<Figure size 432x288 with 1 Axes>"
      ]
     },
     "metadata": {
      "needs_background": "light"
     },
     "output_type": "display_data"
    }
   ],
   "source": [
    "fig, ax = plt.subplots()\n",
    "ax.plot(1/v_liquid, p_vap * 1e-6, '-', label='liquid boundary')\n",
    "ax.plot(1/v_vapour, p_vap * 1e-6, '-', label='vapour boundary')\n",
    "\n",
    "ax.set_ylabel(\"Pressure (MPa)\")\n",
    "ax.set_xlabel(\"Density (nm$^{-3}$)\")\n",
    "ax.set_title(\"VLE envelope\")"
   ]
  },
  {
   "cell_type": "markdown",
   "metadata": {},
   "source": [
    "Now, with the relevant data for liquid and vapour density / molar volume, we can generate data within the ranges using the SAFT-$\\gamma$ Mie EoS for each respective phase (vapour, liquid, v-l). For the liquid region, it would be more reasonable to generate data by intervals in pressure due to the extremely steep gradient for pressure at very small change in volume. For the vapour-liquid and vapour region, we should generate in intervals of volume, density or log of volume, depending which would give use better results. "
   ]
  },
  {
   "cell_type": "code",
   "execution_count": null,
   "metadata": {},
   "outputs": [],
   "source": [
    "fig, ax = plt.subplots()\n",
    "T = 480\n",
    "for t in [477]:\n",
    "    testpv, testvle = pure_hexane.vapour_pressure(t, get_volume=True, print_results=False)\n",
    "    print(f'{t:d}: {testvle[0]:7.4e}, {testvle[1]:7.4e}')\n",
    "\n",
    "# v = np.logspace(-4, 0, 200)\n",
    "# p,g = pure_hexane.p_v_isotherm(v, temperature=T, gibbs=True)\n",
    "ax.semilogx(v,p,'b-')\n",
    "ax.semilogx([testvle[0], testvle[0]], [0,30e5], 'k-')\n",
    "ax.semilogx([testvle[1], testvle[1]], [0,30e5], 'k-')\n",
    "ax.set_ylim((0,30e5))\n",
    "\n",
    "ax2 = ax.twinx()\n",
    "ax2.semilogx(v,g*6.023e23,'r-')\n",
    "ax2.set_ylim((8e3, 1e4))\n",
    "ax.set_ylabel(\"Pressure (MPa)\")\n",
    "ax.set_xlabel(\"Volume (nm$^{3}$)\")\n",
    "ax.set_title(\"PV Isotherm\")"
   ]
  },
  {
   "cell_type": "code",
   "execution_count": null,
   "metadata": {},
   "outputs": [],
   "source": [
    "fig, ax = plt.subplots()\n",
    "x = np.linspace(0,1, 1000)\n",
    "y1 = 1/(1-x)\n",
    "y2 = 1/(1-x**2)\n",
    "ax.plot(x,y1,'-')\n",
    "ax.plot(x,y2,'-')\n",
    "# x0size = 50\n",
    "# x1size = 50\n",
    "# x0 = np.linspace(1e-5,1,x0size)\n",
    "# x1 = np.repeat(np.linspace(1e-5,1,x1size), x0size)\n",
    "# x0 = np.tile(x0, x1size)\n",
    "# value = 1/(1-abs(x0/x1))\n",
    "\n",
    "# ax.plot_trisurf(x0,x1,value,linewidth=0.2, antialiased=True,cmap=plt.cm.CMRmap)"
   ]
  }
 ],
 "metadata": {
  "kernelspec": {
   "display_name": "Python 3",
   "language": "python",
   "name": "python3"
  },
  "language_info": {
   "codemirror_mode": {
    "name": "ipython",
    "version": 3
   },
   "file_extension": ".py",
   "mimetype": "text/x-python",
   "name": "python",
   "nbconvert_exporter": "python",
   "pygments_lexer": "ipython3",
   "version": "3.7.0"
  }
 },
 "nbformat": 4,
 "nbformat_minor": 2
}
