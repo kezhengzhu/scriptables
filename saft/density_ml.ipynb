{
 "cells": [
  {
   "cell_type": "markdown",
   "metadata": {},
   "source": [
    "# Machine Learning: Getting Density for SAFT-$\\gamma$ Mie and Beyond"
   ]
  },
  {
   "cell_type": "markdown",
   "metadata": {},
   "source": [
    "Now let's turn to predicting density with ANN or other machine learning techniques, trying in parallel development to use 1) SAFT-$\\gamma$ Mie parameters, 2) experimental data and loading from API and 3) potentially using atomistic model / forcefield. Here, we will consider using SMILES to read atomistic data as well."
   ]
  },
  {
   "cell_type": "markdown",
   "metadata": {},
   "source": [
    "## SAFT-$\\gamma$ Mie"
   ]
  },
  {
   "cell_type": "code",
   "execution_count": 2,
   "metadata": {},
   "outputs": [],
   "source": [
    "import saftgmie as saft\n",
    "import numpy as np\n",
    "import pandas as pd\n",
    "import math\n",
    "import time\n",
    "import matplotlib.pyplot as plt\n",
    "from mpl_toolkits.mplot3d import Axes3D\n",
    "from sklearn import svm\n",
    "from sklearn import gaussian_process\n",
    "import scipy\n",
    "from scipy.optimize import fsolve, least_squares, leastsq\n",
    "\n",
    "import torch\n",
    "from torch import nn\n",
    "from torch import optim\n",
    "import torch.nn.functional as F\n",
    "from sklearn import preprocessing"
   ]
  },
  {
   "cell_type": "markdown",
   "metadata": {},
   "source": [
    "For each case, the key difference in predicting with machine learning algorithm is the input parameters, i.e. how do we represent the molecules when predicting it. So for some typical examples used in previous papers include using molecular weight to predict boiling point, or reduced temperature to predict Boyle temperature etc. For each individual case, we have to be sure of what we are predicting and what we are predicting it with.\n",
    "\n",
    "For the SAFT-$\\gamma$ Mie case, we are predicting the result of molecular simulation and not the physical properties of real fluid per se. There is a difference here that essentially allows me to fit parameters based on the predicted physical properties (i.e. according to experimental data regression of viscosity, these SAFT-$\\gamma$ Mie parameters best represent this molecule) which could lead to using different parameterisation for different molecular simulation purposes.\n",
    "\n",
    "Fitting experimental data is different in the way that we are removing this molecular simulation bridge, essentially using whatever input parameters as the best description available for the molecules. Hence, we can predict the actual fluid properties if we can accurately describe the molecules in the way that we want.\n",
    "\n",
    "Atomistic model may be more comprehensive that the SAFT-$\\gamma$ Mie case, but it is still a matter of fitting simulation data as output, which really depends on the forcefield we are using. To make this into an actual predictive algorithm, what we really need some form of correction towards experimental data. Do take note of any presence of biases towards certain type of molecules (e.g. there are more available info about alkanes as compared to ether)"
   ]
  },
  {
   "cell_type": "markdown",
   "metadata": {},
   "source": [
    "### Preparing and preprocessing of data"
   ]
  },
  {
   "cell_type": "code",
   "execution_count": null,
   "metadata": {},
   "outputs": [],
   "source": []
  },
  {
   "cell_type": "code",
   "execution_count": null,
   "metadata": {},
   "outputs": [],
   "source": []
  },
  {
   "cell_type": "markdown",
   "metadata": {},
   "source": [
    "## Experimental Data Fitting"
   ]
  },
  {
   "cell_type": "code",
   "execution_count": null,
   "metadata": {},
   "outputs": [],
   "source": []
  },
  {
   "cell_type": "code",
   "execution_count": null,
   "metadata": {},
   "outputs": [],
   "source": []
  },
  {
   "cell_type": "code",
   "execution_count": null,
   "metadata": {},
   "outputs": [],
   "source": []
  },
  {
   "cell_type": "code",
   "execution_count": null,
   "metadata": {},
   "outputs": [],
   "source": []
  },
  {
   "cell_type": "markdown",
   "metadata": {},
   "source": [
    "## Atomistic Proof of Concept"
   ]
  },
  {
   "cell_type": "code",
   "execution_count": null,
   "metadata": {},
   "outputs": [],
   "source": []
  }
 ],
 "metadata": {
  "kernelspec": {
   "display_name": "Python 3",
   "language": "python",
   "name": "python3"
  },
  "language_info": {
   "codemirror_mode": {
    "name": "ipython",
    "version": 3
   },
   "file_extension": ".py",
   "mimetype": "text/x-python",
   "name": "python",
   "nbconvert_exporter": "python",
   "pygments_lexer": "ipython3",
   "version": "3.7.0"
  }
 },
 "nbformat": 4,
 "nbformat_minor": 2
}
