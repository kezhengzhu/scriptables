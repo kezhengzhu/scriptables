{
 "cells": [
  {
   "cell_type": "code",
   "execution_count": 1,
   "metadata": {},
   "outputs": [
    {
     "name": "stdout",
     "output_type": "stream",
     "text": [
      "x in =     [[0.54630053 0.64335805 0.36681151 0.06334853 0.96301016]]\n",
      "x out =    [[0.41672109 0.49417117 0.34338474 0.26932104 0.32182011]]\n",
      "x diff (f) =  [[ 0.12957944  0.14918688  0.02342677 -0.20597251  0.64119005]]\n",
      "dfdx is given by =\n",
      "[[1.         0.         0.09047502 0.         0.21793887]\n",
      " [0.         1.         0.6219905  0.34432925 0.        ]\n",
      " [0.14302856 0.04350993 1.         0.         0.12392665]\n",
      " [0.         0.18525138 0.         1.         0.08058508]\n",
      " [0.32458268 0.         0.10087541 0.06203734 1.        ]]\n"
     ]
    }
   ],
   "source": [
    "import numpy as np\n",
    "import math\n",
    "from dervar import *\n",
    "\n",
    "def assoc(x, a):\n",
    "    de = np.matmul(x,a)\n",
    "    f = x - 1/(1 + de)\n",
    "    return f\n",
    "\n",
    "def derivs(x, a):\n",
    "    de = np.matmul(x,a)\n",
    "    # f1x1 f1x2 f1x3\n",
    "    # f2x1 f2x2 f2x3\n",
    "    f = x - 1/(1 + de)\n",
    "    fx = 1/(1 + de)\n",
    "    \n",
    "    fx = np.reshape(fx, (5,))\n",
    "    fx = fx**2\n",
    "    result = (fx * a).transpose() + np.eye(5)\n",
    "    \n",
    "    return result\n",
    "\n",
    "x = np.reshape(np.random.rand(5), (1,5))\n",
    "a = np.array([[    0,     0, 1.213,     0, 3.134],\n",
    "              [    0,     0, 0.369, 2.554,     0],\n",
    "              [0.521, 2.547,     0,     0, 0.974],\n",
    "              [    0, 1.410,     0,     0, 0.599],\n",
    "              [1.255,     0, 1.051, 1.111,     0]])\n",
    "\n",
    "oldf = assoc(x,a)\n",
    "print(\"{:10s}\".format(\"x in = \"), x)\n",
    "print(\"{:10s}\".format(\"x out = \"), 1/(1+np.matmul(x,a)))\n",
    "print(\"x diff (f) = \", oldf)\n",
    "print(\"dfdx is given by =\")\n",
    "print(derivs(x,a))\n",
    "\n",
    "# print(\"changing x1\")\n",
    "# diff = 0.001*x[0,0]\n",
    "# x[0,0] += diff\n",
    "# newf = assoc(x,a)\n",
    "# df = newf-oldf\n",
    "# dfdx1 = df / diff\n",
    "# print(\"oldf = \", oldf)\n",
    "# print(\"newf = \", newf)\n",
    "# print(dfdx1)"
   ]
  },
  {
   "cell_type": "code",
   "execution_count": 9,
   "metadata": {},
   "outputs": [
    {
     "name": "stdout",
     "output_type": "stream",
     "text": [
      "[[1.         0.         0.20939897 0.         0.50440634]\n",
      " [0.         1.         0.32400305 0.17936565 0.        ]\n",
      " [0.25421553 0.0773335  1.         0.         0.22026424]\n",
      " [0.         0.5224989  0.         1.         0.22728907]\n",
      " [0.22847106 0.         0.07100537 0.04366757 1.        ]]\n",
      "x =   [[0.63396956 0.35666466 0.45779458 0.45230589 0.27000145]]\n",
      "dx =  [[0.]\n",
      " [0.]\n",
      " [0.]\n",
      " [0.]\n",
      " [0.]]\n"
     ]
    }
   ],
   "source": [
    "f = assoc(x,a)\n",
    "dfdx = derivs(x,a)\n",
    "jtj = np.matmul(dfdx.transpose(), dfdx)\n",
    "jtji = np.linalg.inv(jtj)\n",
    "jm = np.matmul(jtji, dfdx.transpose())\n",
    "\n",
    "print(dfdx)\n",
    "print(\"x =  \", x)\n",
    "dx = np.matmul(jm, f.transpose())\n",
    "print(\"dx = \", dx)\n",
    "x = x - dx.transpose()\n"
   ]
  }
 ],
 "metadata": {
  "kernelspec": {
   "display_name": "Python 3",
   "language": "python",
   "name": "python3"
  },
  "language_info": {
   "codemirror_mode": {
    "name": "ipython",
    "version": 3
   },
   "file_extension": ".py",
   "mimetype": "text/x-python",
   "name": "python",
   "nbconvert_exporter": "python",
   "pygments_lexer": "ipython3",
   "version": "3.7.0"
  }
 },
 "nbformat": 4,
 "nbformat_minor": 2
}
