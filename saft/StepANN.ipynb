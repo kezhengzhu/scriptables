{
 "cells": [
  {
   "cell_type": "code",
   "execution_count": 1,
   "metadata": {},
   "outputs": [],
   "source": [
    "import torch\n",
    "from torch import nn\n",
    "from torch import optim\n",
    "import numpy as np \n",
    "import pandas as pd \n",
    "import torch.nn.functional as F\n",
    "import matplotlib.pyplot as plt \n",
    "from sklearn import preprocessing"
   ]
  },
  {
   "cell_type": "code",
   "execution_count": 2,
   "metadata": {},
   "outputs": [],
   "source": [
    "class SimpleNet(nn.Module):\n",
    "    def __init__(self, input_output, layers, activation_func=None):\n",
    "        super().__init__()\n",
    "        input_dim = input_output[0]\n",
    "        output_dim = input_output[1]\n",
    "        self.beta = nn.ModuleList()\n",
    "        self.sig = nn.ModuleList() if activation_func is not None else None\n",
    "        while len(activation_func) < len(layers):\n",
    "            activation_func.append(activation_func[-1])\n",
    "            \n",
    "        for i in range(len(layers)):\n",
    "            if i == 0:\n",
    "                self.beta.append(nn.Linear(input_dim, layers[i]))\n",
    "\n",
    "            if i < len(layers)-1:\n",
    "                self.beta.append(nn.Linear(layers[i], layers[i+1]))\n",
    "                if self.sig is not None:\n",
    "                    self.sig.append(activation_func[i])\n",
    "                \n",
    "            else:\n",
    "                self.beta.append(nn.Linear(layers[i],output_dim))\n",
    "        \n",
    "        print(len(self.beta), len(self.sig))\n",
    "        self.layers = len(self.beta)\n",
    "\n",
    "    def forward(self, x):\n",
    "        for i in range(self.layers):\n",
    "            f = self.beta[i]\n",
    "            if i == 0 or i == self.layers - 1 or self.sig is None:\n",
    "                x = f(x)\n",
    "            else:\n",
    "                a = self.sig[i-1]\n",
    "                x = a(f(x))\n",
    "        return x"
   ]
  },
  {
   "cell_type": "code",
   "execution_count": 3,
   "metadata": {},
   "outputs": [],
   "source": [
    "df = pd.read_csv('n-hexane-vle.csv')"
   ]
  },
  {
   "cell_type": "code",
   "execution_count": 4,
   "metadata": {},
   "outputs": [],
   "source": [
    "dataset = df.values\n",
    "d1 = dataset[0:1000,:]\n",
    "d1 = d1[d1[:,4]<30]\n",
    "np.random.shuffle(d1)\n",
    "v1 = np.log(d1[:,0])\n",
    "p1_eos = d1[:,3]\n",
    "p1_real = np.log(d1[:,4])\n",
    "\n",
    "d2 = dataset[dataset[:,4]<30]\n",
    "\n",
    "np.random.shuffle(d2)\n",
    "v2 = np.log(d2[:,0])\n",
    "T2 = d2[:,2]\n",
    "p2_eos = d2[:,3]\n",
    "p2_real = np.log(d2[:,4])\n",
    "\n",
    "d2v = np.vstack([dataset[0:1000,:],dataset[90000:91000,:],dataset[180000:181000,:]])\n",
    "d2v = d2v[d2v[:,4] < 30]\n",
    "v2v = np.log(d2v[:,0])\n",
    "T2v = d2v[:,2]\n",
    "p2v = d2v[:,3]\n"
   ]
  },
  {
   "cell_type": "code",
   "execution_count": 5,
   "metadata": {},
   "outputs": [
    {
     "name": "stdout",
     "output_type": "stream",
     "text": [
      "4 2\n"
     ]
    }
   ],
   "source": [
    "X = np.column_stack([v2, T2])\n",
    "Y = p2_real.reshape((np.size(p2_eos),1))\n",
    "XV = np.column_stack([v2v, T2v])\n",
    "YV = p2v.reshape((np.size(p2v),1))\n",
    "\n",
    "\n",
    "Xscaler = preprocessing.StandardScaler()\n",
    "X = Xscaler.fit_transform(X)\n",
    "XV = Xscaler.transform(XV)\n",
    "\n",
    "Yscaler = preprocessing.StandardScaler()\n",
    "Y = Yscaler.fit_transform(Y)\n",
    "YV = Yscaler.transform(YV)\n",
    "\n",
    "X = torch.from_numpy(X).float()\n",
    "Y = torch.from_numpy(Y).float()\n",
    "XV = torch.from_numpy(XV).float()\n",
    "YV = torch.from_numpy(YV).float()\n",
    "\n",
    "model = SimpleNet((2,1), [500,200,20], [nn.Tanh(),nn.ReLU()])\n",
    "optimizer = optim.SGD(model.parameters(), lr=0.1)\n",
    "criterion = nn.MSELoss()"
   ]
  },
  {
   "cell_type": "code",
   "execution_count": 9,
   "metadata": {},
   "outputs": [
    {
     "data": {
      "text/plain": [
       "Text(0.5,1,'MSE: 229.40668')"
      ]
     },
     "execution_count": 9,
     "metadata": {},
     "output_type": "execute_result"
    },
    {
     "data": {
      "image/png": "[encoded data removed]",
      "text/plain": [
       "<Figure size 432x288 with 1 Axes>"
      ]
     },
     "metadata": {
      "needs_background": "light"
     },
     "output_type": "display_data"
    }
   ],
   "source": [
    "for i in range(2):\n",
    "    model.train()\n",
    "    optimizer.zero_grad()\n",
    "\n",
    "    Y_ = model(X)\n",
    "    loss = criterion(Y_, Y)\n",
    "\n",
    "    # print('epoch: ', epoch,' loss: ', loss.item())\n",
    "    loss.backward()\n",
    "    optimizer.step()\n",
    "\n",
    "model.eval()\n",
    "with torch.no_grad():\n",
    "    YV_ = model(XV)\n",
    "    loss = criterion(YV_, YV)\n",
    "\n",
    "fig, ax = plt.subplots()\n",
    "ax.plot(Xscaler.inverse_transform(XV.numpy())[:,0], Yscaler.inverse_transform(YV_.numpy()), '.', label='pred')\n",
    "ax.plot(Xscaler.inverse_transform(XV.numpy())[:,0], Yscaler.inverse_transform(YV.numpy()), '.', label='data')\n",
    "\n",
    "ax.set_title(f\"MSE: {loss.item():0.5f}\")"
   ]
  },
  {
   "cell_type": "code",
   "execution_count": 22,
   "metadata": {},
   "outputs": [
    {
     "data": {
      "image/png": "[encoded data removed]",
      "text/plain": [
       "<Figure size 432x288 with 1 Axes>"
      ]
     },
     "metadata": {
      "needs_background": "light"
     },
     "output_type": "display_data"
    }
   ],
   "source": [
    "from sklearn.gaussian_process import GaussianProcessRegressor\n",
    "from sklearn.gaussian_process import kernels\n",
    "x = np.linspace(0,2,100)\n",
    "y = -0.6*np.sin(x) + (x-1)**2 + 1.513*x + 0.83*np.cos(x) + 0.383*np.sin(2*x) - 0.45*np.cos(3*x) - 0.141*(x-2)**3 + 0.094*(x-1.5)**4\n",
    "\n",
    "npt = 5\n",
    "gp = np.array([0.1,0.25, 0.9, 1.4,1.8])\n",
    "gpy = -0.6*np.sin(gp)+(gp-1)**2+1.513*gp+0.83*np.cos(gp)+0.383*np.sin(2*gp)-0.45*np.cos(3*gp)-0.141*(gp-2)**3+0.094*(gp-1.5)**4\n",
    "\n",
    "kern = 1. * kernels.Matern(length_scale=1)\n",
    "gpr = GaussianProcessRegressor(kernel=kern).fit(gp.reshape((npt,1)), gpy.reshape((npt,1)))\n",
    "fitted, stdev = gpr.predict(x.reshape((100,1)), return_std=True)\n",
    "\n",
    "fig,ax = plt.subplots()\n",
    "ax.plot(x,y,'b--')\n",
    "ax.plot(gp,gpy,'ro')\n",
    "ax.plot(x,fitted,'k-')\n",
    "ax.plot(x,fitted.reshape((100,))+1*stdev,'k--')\n",
    "ax.plot(x,fitted.reshape((100,))-1*stdev,'k--')\n",
    "\n",
    "pd.DataFrame(np.column_stack([x,y,fitted,fitted.reshape((100,))+1*stdev,fitted.reshape((100,))-1*stdev])).to_csv('gpr-test-5.csv',index=None)\n",
    "pd.DataFrame(np.column_stack([gp,gpy])).to_csv('gpr-train-5.csv',index=None)\n",
    "\n"
   ]
  }
 ],
 "metadata": {
  "kernelspec": {
   "display_name": "Python 3",
   "language": "python",
   "name": "python3"
  },
  "language_info": {
   "codemirror_mode": {
    "name": "ipython",
    "version": 3
   },
   "file_extension": ".py",
   "mimetype": "text/x-python",
   "name": "python",
   "nbconvert_exporter": "python",
   "pygments_lexer": "ipython3",
   "version": "3.7.0"
  }
 },
 "nbformat": 4,
 "nbformat_minor": 2
}
